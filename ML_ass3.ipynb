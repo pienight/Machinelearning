{
  "nbformat": 4,
  "nbformat_minor": 0,
  "metadata": {
    "colab": {
      "name": "Untitled0.ipynb",
      "provenance": [],
      "collapsed_sections": [],
      "include_colab_link": true
    },
    "kernelspec": {
      "name": "python3",
      "display_name": "Python 3"
    }
  },
  "cells": [
    {
      "cell_type": "markdown",
      "metadata": {
        "id": "view-in-github",
        "colab_type": "text"
      },
      "source": [
        "<a href=\"https://colab.research.google.com/github/pienight/Machinelearning/blob/master/ML_ass3.ipynb\" target=\"_parent\"><img src=\"https://colab.research.google.com/assets/colab-badge.svg\" alt=\"Open In Colab\"/></a>"
      ]
    },
    {
      "cell_type": "markdown",
      "metadata": {
        "id": "lL7E4PbOFRZj",
        "colab_type": "text"
      },
      "source": [
        "#                    Predict Crimes!\n",
        "New product design for public security \n",
        "\n",
        "---\n",
        "\n",
        "\n",
        "https://github.com/pienight/Machinelearning/blob/master/ML_ass3.ipynb"
      ]
    },
    {
      "cell_type": "markdown",
      "metadata": {
        "id": "shOFNP5g_BPv",
        "colab_type": "text"
      },
      "source": [
        "##Aims"
      ]
    },
    {
      "cell_type": "markdown",
      "metadata": {
        "id": "bkUrA-QqFNoJ",
        "colab_type": "text"
      },
      "source": [
        "The aim of this project to develop a system using machine learning technology that would help police and security to predict crime and protect public from dangers before happening. The overall aim is broken in three objectives:(i) Collect data from police office in a specific area such as videos and record of police. (ii) Data would be processed and features of criminal behaviors would be selected for training.(iii)Using algorithm study human behaviors and figure out criminal behavior from normal behaviors.\n"
      ]
    },
    {
      "cell_type": "markdown",
      "metadata": {
        "id": "yy53DjcjCORm",
        "colab_type": "text"
      },
      "source": [
        "##Background"
      ]
    },
    {
      "cell_type": "markdown",
      "metadata": {
        "id": "PDedfFCcG40X",
        "colab_type": "text"
      },
      "source": [
        "Examining the historical crime data allows people to develop crime control system and increase security. Crimes and criminals behavior tend to be the same sometimes (Costa, 2011). That means the crimes can be predict. \n",
        "There are also many researches about crime and criminal prediction. Crundall & Eyre-Jackson\n",
        "(2017) provide a good reference, they pointed out that in some cases can be identified criminal\n",
        "acts and feasibility, at the same time, specific research methods are also described in more detail.4\n",
        "But the drawback is that their approach is still based on human resources, which is inappropriate\n",
        "in the face of a large number of data. SANA & BATOOL (2017) make recommendations on the\n",
        "relationship between crime and behaviors. Minor, Persico & Weiss (2018) made more\n",
        "supplements on attributes related to crimes. The prediction methods of Barrett & Katsiyannis\n",
        "(2016) and Wientjes & et (2017) are very critical and have complete prototypes as predicting\n",
        "tools, which will be very useful for our research. Our research is aiming to combine their results\n",
        "and improve via computer version and behavior recognition as well as deep learning"
      ]
    },
    {
      "cell_type": "markdown",
      "metadata": {
        "id": "DZhid7AECSqw",
        "colab_type": "text"
      },
      "source": [
        "##Research Project"
      ]
    },
    {
      "cell_type": "markdown",
      "metadata": {
        "id": "P-imztY2_Cke",
        "colab_type": "text"
      },
      "source": [
        "In the development of human society, it is difficult to say that there is a stage in which crime in any form can be completely avoided. Crime has an extremely bad impact on social security and people's lives. At any stage of human society, crime needs to be concerned. According to the research of Barak, Leighton & Flavin (2010), crime is a violation of a legalized social norm that carries a penal sanction. After I did data visualization of Los Angeles crime data with my team members, the occurrence of crime seems to be related to the characteristics of both the offender and the victim. Therefore, it is of great importance to develop a new design that combining AI technology and big data to predict the crime. This product would use the latest crime data from CCTV and crime reports to collect crime data and analyse how people behave when they want crimes. We would develop methods to predict criminal behaviors via deep learning technology. The results might be different due to different culture and regions. Our work could also focus on the information of victims and provide possible victims’ characteristics for people to reduce the possibility of victimization. This project will help to improve public order, support police in adjudicating cases, reduce crime and protect citizens’ safety."
      ]
    },
    {
      "cell_type": "markdown",
      "metadata": {
        "id": "dCWuPPTg_Cnl",
        "colab_type": "text"
      },
      "source": [
        "Crimes is harmful to society. This research would try to develop methods to predict criminal behaviors via deep learning technology. The results might be different due to different culture and regions. The data would come from police office in a specific area. Videos and record of police would be the material to be analyzed. Data would be processed and features of criminal behaviors would be selected for training. The algorithm would study human behaviors and figure out criminal behavior from normal behaviors. The research could also focus on the information of victims and provide possible victims’ characteristics for people to reduce the possibility of victimization. This project will help to improve public order, assist police in adjudicating cases, reduce crime and protect citizens’ safety."
      ]
    },
    {
      "cell_type": "markdown",
      "metadata": {
        "id": "XHshtPXI_Csh",
        "colab_type": "text"
      },
      "source": [
        "In order to achieve our objectives, firstly we should figure out the purpose of data processing and understanding of crimes. Considering different regions and nationalities, different training datasets may be needed because of the differences in behavior caused by cultural factors, so we should pay attention to these in the selection of data sets.\n",
        "\n",
        "\n",
        "First of all, we need to collect the following data, which are videos of many common human behaviors, police records and videos, CCTV videos, and related personnel information. Then we will integrate the collected information and divide it into training group and testing group.\n",
        "\n",
        "\n",
        "After that, data sorting and cleansing would take place, and we would design a corresponding algorithm so that the computer can learn human behavior first, in order to achieve a higher accuracy.\n",
        "\n",
        "\n",
        "Then we train the recognition of criminal acts, and use the previously trained behavior recognition and artificial surveillance to train a model with acceptable accuracy. A rough statistics and observation would be applied on the dataset and the data would be classified into several datasets based on the crime types according to law and related expertise associated with social common sense. Thus the model are being required to predict specific kind of crime and its probability.\n",
        "\n",
        "\n",
        "Then, according to this model, the victim is analyzed to find out the relationship between crime and victim. So there are three predictors produced: human behavior prediction, crime prediction and victim prediction.\n",
        "\n",
        "\n",
        "After testing in real life, the model would be available as an auxiliary tool, but it may take a long time to meet the appropriate testing events."
      ]
    },
    {
      "cell_type": "markdown",
      "metadata": {
        "id": "w5XY0uMjBI8i",
        "colab_type": "text"
      },
      "source": [
        "\n",
        "Therefore, this project will start from two aspects: victims and offenders. When collecting data, we should also pay attention to the characteristics of victims. For the source of data, data mining should be carried out from video and police reports. \n",
        "\n",
        "\n",
        "\n",
        "In the process of learning, computers should first learn human behavior, and then learn to judge the behavior related to crime prediction from different behaviors. A final product would help to predict potential victims as well as criminals. Due to the most likely attributes that a victims may have and the time of crimes happened, people may use the results of this research to strengthen safety awareness. This project would start unprecedented research from a new perspective."
      ]
    },
    {
      "cell_type": "markdown",
      "metadata": {
        "id": "aX_SJhcGHJ3y",
        "colab_type": "text"
      },
      "source": [
        "The ideal output should be a software with a database interface, which can accept real-time video input and image input, and even text input. The software will analyze the input information and output the prediction results of crime. Generally, the software will alarm the time exceeding a certain probability according to the settings, reminding the relevant personnel to pay attention. In practical application, the application may also need to combine geographic information to predict the location of the crime. Therefore, software should have more interfaces to facilitate customization for different needs. At the same time, the software should also set up many security settings such as firewalls to avoid any form of damage, such as data leakage. Software should also update the model regularly to ensure the validity of prediction."
      ]
    },
    {
      "cell_type": "markdown",
      "metadata": {
        "id": "RondIvdvCSmv",
        "colab_type": "text"
      },
      "source": [
        "##Budget"
      ]
    },
    {
      "cell_type": "markdown",
      "metadata": {
        "id": "M_SJ_J5XpGfb",
        "colab_type": "text"
      },
      "source": [
        "The budget and timeline are developed to gradually complete the research project. The most time costing budget is the collecting of raw data while the most money costing is on human resource. We can hugely reduce cost on human resource if we use stuff already in our company. The period would be adjusted according to the actual situation and would end faster if training method and algorithm design are successful.\n",
        "\n",
        "![Time Plan](https://raw.githubusercontent.com/pienight/Machinelearning/master/TimePlanb.png)\n",
        "\n",
        "Figure 1 Time Plan\n",
        " \n",
        "\n",
        "![Cost Plan](https://raw.githubusercontent.com/pienight/Machinelearning/master/cost%20plan.png)\n",
        "\n",
        "Figure 2 Cost Plan\n",
        "\n"
      ]
    },
    {
      "cell_type": "markdown",
      "metadata": {
        "id": "c7Rhjt3JCScb",
        "colab_type": "text"
      },
      "source": [
        "##Personnel"
      ]
    },
    {
      "cell_type": "markdown",
      "metadata": {
        "id": "u6NKrbcXRb42",
        "colab_type": "text"
      },
      "source": [
        "Human resourcing presents we need at least 10 people for this one-year project. We would have all positions to get a full use of human resources and cut the budget."
      ]
    },
    {
      "cell_type": "markdown",
      "metadata": {
        "id": "ND7zBxr9Mq3E",
        "colab_type": "text"
      },
      "source": [
        "![Human Resource](https://raw.githubusercontent.com/pienight/Machinelearning/master/jobs2.png)\n",
        "\n",
        "Figure 3 Human Resource"
      ]
    },
    {
      "cell_type": "markdown",
      "metadata": {
        "id": "G2qhNx5n_C5_",
        "colab_type": "text"
      },
      "source": [
        "##Reference"
      ]
    },
    {
      "cell_type": "markdown",
      "metadata": {
        "id": "y7TXQqtISNxY",
        "colab_type": "text"
      },
      "source": [
        "1. Barak, G., Leighton, P. & Flavin, J. 2010, Class, race, gender, and crime: The social realities of justice in America, Rowman & Littlefield Publishers.\n",
        "2. Costa, A.T.M. 2011, \"Is a Common Criminal Possible? discretion in the criminal justice system of DF\", Sociedade e Estado, vol. 26, no. 1, pp. 97-114.\n",
        "3. Crundall, D. & Eyre-Jackson, L. 2017, \"Predicting criminal incidents on the basis of nonverbal behaviour: The role of experience\", Security Journal, vol. 30, no. 3, pp. 703-716.\n",
        "4. SANA, F. & BATOOL, I., 2017. Development and Validation of an Indigenous Criminal Thinking Scale. Pakistan Journal of Psychological Research, 32(1), pp. 117-139.\n",
        "5. Minor, D., Persico, N. & Weiss, D.M. 2018, \"Criminal background and job performance\", IZA Journal of Labor Policy, vol. 7, no. 1, pp. 1-49.\n",
        "6. Barrett, D.E. & Katsiyannis, A. 2016, \"Juvenile Offending and Crime in Early Adulthood: A Large Sample Analysis\", Journal of Child and Family Studies, vol. 25, no. 4, pp. 1086- 1097.\n",
        "7. Wientjes, J., Delsing, M., Cillessen, A., Janssens, J. & Scholte, R. 2017, \"Identifying potential offenders on the basis of police records: development and validation of the ProKid risk assessment tool\", Journal of Criminological Research, Policy and Practice, vol. 3, no. 4, pp. 249-260."
      ]
    },
    {
      "cell_type": "markdown",
      "metadata": {
        "id": "D-YrZC25dFhB",
        "colab_type": "text"
      },
      "source": [
        "##Video Pitch"
      ]
    },
    {
      "cell_type": "markdown",
      "metadata": {
        "id": "Ms3ApZ4Qn7qc",
        "colab_type": "text"
      },
      "source": [
        "Please check the Video Pitch based on my PPT here\n",
        "https://youtu.be/fpIuOSVbnYs"
      ]
    }
  ]
}