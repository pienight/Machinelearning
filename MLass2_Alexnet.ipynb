{
  "nbformat": 4,
  "nbformat_minor": 0,
  "metadata": {
    "colab": {
      "name": "Copy of flower.ipynb",
      "provenance": [],
      "collapsed_sections": [
        "Szz094Ho1pAD",
        "rXC7Wrao9IiY"
      ],
      "toc_visible": true,
      "include_colab_link": true
    },
    "kernelspec": {
      "name": "python3",
      "display_name": "Python 3"
    },
    "accelerator": "GPU"
  },
  "cells": [
    {
      "cell_type": "markdown",
      "metadata": {
        "id": "view-in-github",
        "colab_type": "text"
      },
      "source": [
        "<a href=\"https://colab.research.google.com/github/pienight/Machinelearning/blob/master/MLass2_Alexnet.ipynb\" target=\"_parent\"><img src=\"https://colab.research.google.com/assets/colab-badge.svg\" alt=\"Open In Colab\"/></a>"
      ]
    },
    {
      "cell_type": "markdown",
      "metadata": {
        "id": "6WLriKbYkRm3",
        "colab_type": "text"
      },
      "source": [
        "# 1.Preparation"
      ]
    },
    {
      "cell_type": "markdown",
      "metadata": {
        "id": "zTPHeVJVkWrM",
        "colab_type": "text"
      },
      "source": [
        "**1.1 Import required packages**"
      ]
    },
    {
      "cell_type": "code",
      "metadata": {
        "id": "rdZqK5Bluijp",
        "colab_type": "code",
        "outputId": "87e77786-3d22-4e22-d616-b3479c3388c0",
        "colab": {
          "base_uri": "https://localhost:8080/",
          "height": 35
        }
      },
      "source": [
        "import os\n",
        "import tensorflow as tf\n",
        "import zipfile\n",
        "from tensorflow.keras import layers\n",
        "from tensorflow.keras import Model\n",
        "from sklearn.preprocessing import LabelBinarizer\n",
        "import keras\n",
        "from keras.models import Sequential\n",
        "from keras.layers import Dense, Dropout, Flatten, Conv2D, MaxPooling2D, BatchNormalization\n",
        "from keras.layers import LSTM, Input\n",
        "from keras.models import Model\n",
        "from keras.callbacks import ModelCheckpoint\n",
        "from keras.optimizers import SGD\n",
        "from keras.datasets import cifar10\n",
        "from tensorflow.keras.optimizers import RMSprop\n",
        "from tensorflow.keras.preprocessing.image import ImageDataGenerator\n",
        "from keras.optimizers import Adam, RMSprop\n",
        "from tqdm import tqdm\n",
        "import numpy as np\n",
        "import pandas as pd\n",
        "import skimage\n",
        "from skimage import io, transform\n",
        "from IPython.display import Image, display\n",
        "import shutil\n",
        "from keras.optimizers import SGD\n",
        "from tensorflow.keras.optimizers import RMSprop\n",
        "import random\n",
        "# packages for visualization\n",
        "import ipywidgets as iw\n",
        "from IPython.display import display, clear_output\n",
        "import matplotlib.pyplot as plt\n",
        "from skimage.transform import resize as imresize\n",
        "from glob import glob"
      ],
      "execution_count": 1,
      "outputs": [
        {
          "output_type": "stream",
          "text": [
            "Using TensorFlow backend.\n"
          ],
          "name": "stderr"
        }
      ]
    },
    {
      "cell_type": "code",
      "metadata": {
        "id": "571Kt4oGkdwJ",
        "colab_type": "code",
        "colab": {}
      },
      "source": [
        ""
      ],
      "execution_count": 0,
      "outputs": []
    },
    {
      "cell_type": "markdown",
      "metadata": {
        "id": "-GDW85hLkpXs",
        "colab_type": "text"
      },
      "source": [
        "**1.2 Mount the Google Drive**"
      ]
    },
    {
      "cell_type": "code",
      "metadata": {
        "id": "Jz0qluXsX5rW",
        "colab_type": "code",
        "outputId": "99288a7e-7630-488f-b8bd-6d5b7d0bc2d5",
        "colab": {
          "base_uri": "https://localhost:8080/",
          "height": 35
        }
      },
      "source": [
        "from google.colab import drive\n",
        "drive.mount('/content/gdrive')"
      ],
      "execution_count": 2,
      "outputs": [
        {
          "output_type": "stream",
          "text": [
            "Drive already mounted at /content/gdrive; to attempt to forcibly remount, call drive.mount(\"/content/gdrive\", force_remount=True).\n"
          ],
          "name": "stdout"
        }
      ]
    },
    {
      "cell_type": "code",
      "metadata": {
        "id": "EmG60TxnYMZ8",
        "colab_type": "code",
        "outputId": "fab67662-2dcb-4669-a066-50e8fe1d242c",
        "colab": {
          "base_uri": "https://localhost:8080/",
          "height": 35
        }
      },
      "source": [
        "cd /content/gdrive/My Drive/testx"
      ],
      "execution_count": 3,
      "outputs": [
        {
          "output_type": "stream",
          "text": [
            "/content/gdrive/My Drive/testx\n"
          ],
          "name": "stdout"
        }
      ]
    },
    {
      "cell_type": "code",
      "metadata": {
        "id": "xIbdqOUrkfC-",
        "colab_type": "code",
        "colab": {}
      },
      "source": [
        "\n",
        "\n",
        "#此代码将数据集文件分为训练集，交叉验证集，测试集\n",
        "train_rate=0.7\n",
        "val_rate=0.1\n",
        "test_rate=0.2\n",
        "rates=[train_rate,val_rate,test_rate]\n",
        "base_dir='/content/gdrive/My Drive/17Flower'\n",
        "jpg_list=os.listdir(base_dir)\n",
        "#打乱图像数据集\n",
        "random.shuffle(jpg_list)\n",
        "\n",
        "labels=['Daffodil', 'Snowdrop', 'LilyValley', 'Bluebell', 'Crocus', 'Iris', 'Tigerlily', 'Tulip', 'Fritillary',\n",
        "              'Sunflower', 'Daisy', 'ColtsFoot', 'Dandelion', 'Cowslip', 'Buttercup', 'Windflower', 'Pansy']\n",
        "#按照比例，制作三个集合\n",
        "def make_set(rates):\n",
        "    len_ipg_list=len(jpg_list)\n",
        "    train_index_start=0\n",
        "    train_index_end=int(len_ipg_list*rates[0])\n",
        "    val_index_end = int(len_ipg_list * rates[1])+train_index_end\n",
        "    test_index_end=int(len_ipg_list * rates[2])+val_index_end\n",
        "    #生成训练集\n",
        "    for i in range(17):\n",
        "        path='data_split/train/'+labels[i]\n",
        "        if(not os.path.exists(path)):\n",
        "            os.makedirs(path)\n",
        "    for i in range(train_index_start,train_index_end):\n",
        "        jpg_name=jpg_list[i]\n",
        "        jpg_class=labels[int((int(jpg_name[6:10])-1)/80)]\n",
        "        dst_path='data_split/train/'+jpg_class+'/'+jpg_name\n",
        "        shutil.copyfile(os.path.join(base_dir,jpg_list[i]), dst_path)\n",
        "    #生成交叉验证集\n",
        "    for i in range(17):\n",
        "        path='data_split/val/'+labels[i]\n",
        "        if(not os.path.exists(path)):\n",
        "            os.makedirs(path)\n",
        "    for i in range(train_index_end,val_index_end):\n",
        "        jpg_name=jpg_list[i]\n",
        "        jpg_class=labels[int((int(jpg_name[6:10])-1)/80)]\n",
        "        dst_path='data_split/val/'+jpg_class+'/'+jpg_name\n",
        "        shutil.copyfile(os.path.join(base_dir,jpg_list[i]), dst_path)\n",
        "    #生成测试集\n",
        "        # 生成交叉验证集\n",
        "        for i in range(17):\n",
        "            path = 'data_split/test/' + labels[i]\n",
        "            if (not os.path.exists(path)):\n",
        "                os.makedirs(path)\n",
        "        for i in range(val_index_end, test_index_end):\n",
        "            jpg_name = jpg_list[i]\n",
        "            jpg_class = labels[int((int(jpg_name[6:10]) - 1) / 80)]\n",
        "            dst_path = 'data_split/test/' + jpg_class+'/'+jpg_name\n",
        "            shutil.copyfile(os.path.join(base_dir, jpg_list[i]), dst_path)\n",
        "make_set(rates)"
      ],
      "execution_count": 0,
      "outputs": []
    },
    {
      "cell_type": "markdown",
      "metadata": {
        "id": "fnr3TpYckz2A",
        "colab_type": "text"
      },
      "source": [
        "# 2. Data Preparation"
      ]
    },
    {
      "cell_type": "code",
      "metadata": {
        "id": "f_eWpCBgmCew",
        "colab_type": "code",
        "colab": {}
      },
      "source": [
        "train_dir = '/content/gdrive/My Drive/testx/data_split/train'\n",
        "test_dir = '/content/gdrive/My Drive/testx/data_split/test'\n",
        "validation_dir = '/content/gdrive/My Drive/testx/data_split/val'"
      ],
      "execution_count": 0,
      "outputs": []
    },
    {
      "cell_type": "markdown",
      "metadata": {
        "id": "tDET-etioFLc",
        "colab_type": "text"
      },
      "source": [
        "**2.3 Image Augmentation Setting**"
      ]
    },
    {
      "cell_type": "code",
      "metadata": {
        "id": "FIdni-3loGEB",
        "colab_type": "code",
        "colab": {}
      },
      "source": [
        "train_gen_cnn = ImageDataGenerator(rescale=1./255, width_shift_range=0.2, height_shift_range=0.2, shear_range=0.2, zoom_range=0.1, horizontal_flip=True, fill_mode='nearest')\n",
        "test_gen_cnn = ImageDataGenerator(rescale=1./255)\n",
        "validation_gen_cnn = ImageDataGenerator(rescale=1./255, width_shift_range=0.2, height_shift_range=0.2, shear_range=0.2, zoom_range=0.1, horizontal_flip=True, fill_mode='nearest')\n",
        "\n",
        "train_gen_alexnet = ImageDataGenerator(rescale=1./255, width_shift_range=0.2, height_shift_range=0.2, shear_range=0.2, zoom_range=0.1, horizontal_flip=True, fill_mode='nearest')\n",
        "test_gen_alexnet = ImageDataGenerator(rescale=1./255)\n",
        "validation_gen_alexnet = ImageDataGenerator(rescale=1./255, width_shift_range=0.2, height_shift_range=0.2, shear_range=0.2, zoom_range=0.1, horizontal_flip=True, fill_mode='nearest')"
      ],
      "execution_count": 0,
      "outputs": []
    },
    {
      "cell_type": "markdown",
      "metadata": {
        "id": "WNGAXZW0p9b7",
        "colab_type": "text"
      },
      "source": [
        "**2.4 Define the function to load image into array**"
      ]
    },
    {
      "cell_type": "code",
      "metadata": {
        "id": "kO5fKdIElSbz",
        "colab_type": "code",
        "colab": {}
      },
      "source": [
        "img_size = 50\n",
        "\n",
        "def get_data(folder_path):\n",
        "    imgs = []\n",
        "    indices = []\n",
        "    labels = []\n",
        "    for idx, folder_name in enumerate(tqdm(os.listdir(folder_path))):\n",
        "        if not folder_name.startswith('.'):\n",
        "            labels.append(folder_name)\n",
        "            for file_name in os.listdir(folder_path + '/' + folder_name):\n",
        "                if not file_name.startswith('.'):\n",
        "                    img_file = io.imread(folder_path + '/' + folder_name + '/' + file_name)\n",
        "                    if img_file is not None:\n",
        "                        img_file = transform.resize(img_file, (img_size, img_size))\n",
        "                        imgs.append(np.asarray(img_file))\n",
        "                        indices.append(idx)\n",
        "    imgs = np.asarray(imgs)\n",
        "    indices = np.asarray(indices)\n",
        "    labels = np.asarray(labels)\n",
        "    return imgs, indices, labels"
      ],
      "execution_count": 0,
      "outputs": []
    },
    {
      "cell_type": "markdown",
      "metadata": {
        "id": "uSYFZuGeqS-1",
        "colab_type": "text"
      },
      "source": [
        "**2.5 Put image into array**"
      ]
    },
    {
      "cell_type": "code",
      "metadata": {
        "id": "a0kGhtKnqXCF",
        "colab_type": "code",
        "outputId": "5592c58c-d874-4fe1-f588-440a946e2cdc",
        "colab": {
          "base_uri": "https://localhost:8080/",
          "height": 109
        }
      },
      "source": [
        "X_train, y_train, train_labels = get_data(train_dir)\n",
        "X_test, y_test, test_labels = get_data(test_dir)\n",
        "X_validation, y_validation, validation_labels = get_data(validation_dir)\n",
        "print ('\\n Loading complete!')"
      ],
      "execution_count": 8,
      "outputs": [
        {
          "output_type": "stream",
          "text": [
            "100%|██████████| 17/17 [01:30<00:00,  5.03s/it]\n",
            "100%|██████████| 17/17 [00:26<00:00,  1.66s/it]\n",
            "100%|██████████| 17/17 [00:12<00:00,  1.45it/s]"
          ],
          "name": "stderr"
        },
        {
          "output_type": "stream",
          "text": [
            "\n",
            " Loading complete!\n"
          ],
          "name": "stdout"
        },
        {
          "output_type": "stream",
          "text": [
            "\n"
          ],
          "name": "stderr"
        }
      ]
    },
    {
      "cell_type": "markdown",
      "metadata": {
        "id": "dMGQBkc0odsl",
        "colab_type": "text"
      },
      "source": [
        "**2.6 Checkpoint Setting**"
      ]
    },
    {
      "cell_type": "code",
      "metadata": {
        "id": "fZfiPiP5ohEG",
        "colab_type": "code",
        "colab": {
          "base_uri": "https://localhost:8080/",
          "height": 54
        },
        "outputId": "f7519c2d-d49d-443e-9b56-722722b94c5c"
      },
      "source": [
        "filepath='/content/gdrive/My Drive/testx/Models_customized/customized_weights.{epoch:02d}-{val_loss:.2f}.hdf5'\n",
        "checkpoint = tf.keras.callbacks.ModelCheckpoint(filepath, monitor='val_loss', verbose=0, save_best_only=False, \n",
        "                                                save_weights_only=False, mode='auto', period=1)\n",
        "\n",
        "filepath_alexnet='/content/gdrive/My Drive/testx/Models_alexnet/alexnet_weights.{epoch:02d}-{val_loss:.2f}.hdf5'\n",
        "checkpoint_alexnet = tf.keras.callbacks.ModelCheckpoint(filepath_alexnet, monitor='val_loss', verbose=0, save_best_only=False, \n",
        "                                                        save_weights_only=False, mode='auto', period=1)"
      ],
      "execution_count": 9,
      "outputs": [
        {
          "output_type": "stream",
          "text": [
            "WARNING:tensorflow:`period` argument is deprecated. Please use `save_freq` to specify the frequency in number of samples seen.\n",
            "WARNING:tensorflow:`period` argument is deprecated. Please use `save_freq` to specify the frequency in number of samples seen.\n"
          ],
          "name": "stdout"
        }
      ]
    },
    {
      "cell_type": "markdown",
      "metadata": {
        "id": "rKcKeI1G8JLe",
        "colab_type": "text"
      },
      "source": [
        "# CNN"
      ]
    },
    {
      "cell_type": "markdown",
      "metadata": {
        "id": "PzUFUoDFJq6T",
        "colab_type": "text"
      },
      "source": [
        "**Creat architculture**"
      ]
    },
    {
      "cell_type": "code",
      "metadata": {
        "id": "pjYNecEn-AXp",
        "colab_type": "code",
        "colab": {
          "base_uri": "https://localhost:8080/",
          "height": 92
        },
        "outputId": "0c5e2269-3817-4392-8d2a-876acc1403f6"
      },
      "source": [
        "model_cnn = tf.keras.models.Sequential([\n",
        "    tf.keras.layers.Conv2D(32, (3,3), activation='relu', input_shape=(224, 224, 3)),\n",
        "    tf.keras.layers.MaxPooling2D(2, 2),\n",
        "    \n",
        "    tf.keras.layers.Conv2D(64, (3,3), activation='relu'),\n",
        "    tf.keras.layers.MaxPooling2D(2,2),\n",
        "    \n",
        "    tf.keras.layers.Conv2D(128, (3,3), activation='relu'),\n",
        "    tf.keras.layers.MaxPooling2D(2,2),\n",
        "    tf.keras.layers.Dropout(0.35),\n",
        "    \n",
        "    tf.keras.layers.Conv2D(256, (3,3), activation='relu'),\n",
        "    tf.keras.layers.MaxPooling2D(2,2),\n",
        "    \n",
        "    tf.keras.layers.Conv2D(512, (3,3), activation='relu'),\n",
        "    tf.keras.layers.MaxPooling2D(2,2),\n",
        "    tf.keras.layers.Dropout(0.35),\n",
        "    \n",
        "    tf.keras.layers.Flatten(),\n",
        "    tf.keras.layers.Dense(512, activation='relu'),\n",
        "    tf.keras.layers.Dense(17, activation='sigmoid')\n",
        "])"
      ],
      "execution_count": 10,
      "outputs": [
        {
          "output_type": "stream",
          "text": [
            "WARNING:tensorflow:From /usr/local/lib/python3.6/dist-packages/tensorflow/python/ops/init_ops.py:1251: calling VarianceScaling.__init__ (from tensorflow.python.ops.init_ops) with dtype is deprecated and will be removed in a future version.\n",
            "Instructions for updating:\n",
            "Call initializer instance with the dtype argument instead of passing it to the constructor\n"
          ],
          "name": "stdout"
        }
      ]
    },
    {
      "cell_type": "code",
      "metadata": {
        "id": "K-zJD5CQzQto",
        "colab_type": "code",
        "outputId": "e4fdc6bc-f266-4c23-b267-82ef305028cb",
        "colab": {
          "base_uri": "https://localhost:8080/",
          "height": 715
        }
      },
      "source": [
        "model_cnn.summary()"
      ],
      "execution_count": 11,
      "outputs": [
        {
          "output_type": "stream",
          "text": [
            "Model: \"sequential\"\n",
            "_________________________________________________________________\n",
            "Layer (type)                 Output Shape              Param #   \n",
            "=================================================================\n",
            "conv2d (Conv2D)              (None, 222, 222, 32)      896       \n",
            "_________________________________________________________________\n",
            "max_pooling2d (MaxPooling2D) (None, 111, 111, 32)      0         \n",
            "_________________________________________________________________\n",
            "conv2d_1 (Conv2D)            (None, 109, 109, 64)      18496     \n",
            "_________________________________________________________________\n",
            "max_pooling2d_1 (MaxPooling2 (None, 54, 54, 64)        0         \n",
            "_________________________________________________________________\n",
            "conv2d_2 (Conv2D)            (None, 52, 52, 128)       73856     \n",
            "_________________________________________________________________\n",
            "max_pooling2d_2 (MaxPooling2 (None, 26, 26, 128)       0         \n",
            "_________________________________________________________________\n",
            "dropout (Dropout)            (None, 26, 26, 128)       0         \n",
            "_________________________________________________________________\n",
            "conv2d_3 (Conv2D)            (None, 24, 24, 256)       295168    \n",
            "_________________________________________________________________\n",
            "max_pooling2d_3 (MaxPooling2 (None, 12, 12, 256)       0         \n",
            "_________________________________________________________________\n",
            "conv2d_4 (Conv2D)            (None, 10, 10, 512)       1180160   \n",
            "_________________________________________________________________\n",
            "max_pooling2d_4 (MaxPooling2 (None, 5, 5, 512)         0         \n",
            "_________________________________________________________________\n",
            "dropout_1 (Dropout)          (None, 5, 5, 512)         0         \n",
            "_________________________________________________________________\n",
            "flatten (Flatten)            (None, 12800)             0         \n",
            "_________________________________________________________________\n",
            "dense (Dense)                (None, 512)               6554112   \n",
            "_________________________________________________________________\n",
            "dense_1 (Dense)              (None, 17)                8721      \n",
            "=================================================================\n",
            "Total params: 8,131,409\n",
            "Trainable params: 8,131,409\n",
            "Non-trainable params: 0\n",
            "_________________________________________________________________\n"
          ],
          "name": "stdout"
        }
      ]
    },
    {
      "cell_type": "markdown",
      "metadata": {
        "id": "QrpUFZgaInrO",
        "colab_type": "text"
      },
      "source": [
        " load images and generate labels automatically"
      ]
    },
    {
      "cell_type": "code",
      "metadata": {
        "id": "UrsR8MSV8Wsq",
        "colab_type": "code",
        "colab": {
          "base_uri": "https://localhost:8080/",
          "height": 92
        },
        "outputId": "84515b32-c657-4fe7-9058-c9e53dcc6f34"
      },
      "source": [
        "model_cnn.compile(loss='binary_crossentropy',\n",
        "              optimizer=RMSprop(lr=1e-4),\n",
        "              metrics=['acc'])"
      ],
      "execution_count": 12,
      "outputs": [
        {
          "output_type": "stream",
          "text": [
            "WARNING:tensorflow:From /usr/local/lib/python3.6/dist-packages/tensorflow/python/ops/nn_impl.py:180: add_dispatch_support.<locals>.wrapper (from tensorflow.python.ops.array_ops) is deprecated and will be removed in a future version.\n",
            "Instructions for updating:\n",
            "Use tf.where in 2.0, which has the same broadcast rule as np.where\n"
          ],
          "name": "stdout"
        }
      ]
    },
    {
      "cell_type": "markdown",
      "metadata": {
        "id": "hPVRWLpmLD6H",
        "colab_type": "text"
      },
      "source": [
        "**Using Image generator**"
      ]
    },
    {
      "cell_type": "code",
      "metadata": {
        "id": "GorsZoHylZEz",
        "colab_type": "code",
        "outputId": "18cfb88e-32e9-4f16-b1cd-cc508765732d",
        "colab": {
          "base_uri": "https://localhost:8080/",
          "height": 72
        }
      },
      "source": [
        "img_width, img_height = 224,224 \n",
        "batch_size = 32\n",
        "\n",
        "train_generator_cnn = train_gen_cnn.flow_from_directory(train_dir,\n",
        "                                               target_size=(img_width, img_height),\n",
        "                                               batch_size=batch_size,\n",
        "                                               class_mode='categorical', subset='training')\n",
        "\n",
        "test_generator_cnn = test_gen_cnn.flow_from_directory(test_dir,\n",
        "                                               target_size=(img_width, img_height),\n",
        "                                               batch_size=batch_size,\n",
        "                                               class_mode='categorical')\n",
        "\n",
        "validation_generator_cnn = validation_gen_cnn.flow_from_directory(validation_dir,\n",
        "                                               target_size=(img_width, img_height),\n",
        "                                               batch_size=batch_size,\n",
        "                                               class_mode='categorical')"
      ],
      "execution_count": 13,
      "outputs": [
        {
          "output_type": "stream",
          "text": [
            "Found 952 images belonging to 17 classes.\n",
            "Found 272 images belonging to 17 classes.\n",
            "Found 136 images belonging to 17 classes.\n"
          ],
          "name": "stdout"
        }
      ]
    },
    {
      "cell_type": "markdown",
      "metadata": {
        "id": "9EgJETxEKux4",
        "colab_type": "text"
      },
      "source": [
        "**Train the model by validation**"
      ]
    },
    {
      "cell_type": "code",
      "metadata": {
        "id": "_SUotDzR8Y7L",
        "colab_type": "code",
        "outputId": "0f6bcb79-bd45-4cb2-88d2-b4478df92a2c",
        "colab": {
          "base_uri": "https://localhost:8080/",
          "height": 1000
        }
      },
      "source": [
        "history_cnn_val = model_cnn.fit_generator(\n",
        "      train_generator_cnn,\n",
        "      steps_per_epoch=22, \n",
        "      epochs=50,\n",
        "      validation_data=validation_generator_cnn,\n",
        "      validation_steps=11, \n",
        "      callbacks = [checkpoint],\n",
        "      verbose=1)"
      ],
      "execution_count": 14,
      "outputs": [
        {
          "output_type": "stream",
          "text": [
            "Epoch 1/50\n",
            "22/22 [==============================] - 23s 1s/step - loss: 0.2693 - acc: 0.9204 - val_loss: 0.2533 - val_acc: 0.9412\n",
            "Epoch 2/50\n",
            "22/22 [==============================] - 19s 861ms/step - loss: 0.2269 - acc: 0.9412 - val_loss: 0.2583 - val_acc: 0.9412\n",
            "Epoch 3/50\n",
            "22/22 [==============================] - 17s 758ms/step - loss: 0.2103 - acc: 0.9409 - val_loss: 0.2502 - val_acc: 0.9412\n",
            "Epoch 4/50\n",
            "22/22 [==============================] - 14s 658ms/step - loss: 0.2024 - acc: 0.9407 - val_loss: 0.2296 - val_acc: 0.9410\n",
            "Epoch 5/50\n",
            "22/22 [==============================] - 21s 973ms/step - loss: 0.2006 - acc: 0.9405 - val_loss: 0.2254 - val_acc: 0.9412\n",
            "Epoch 6/50\n",
            "22/22 [==============================] - 17s 782ms/step - loss: 0.1935 - acc: 0.9413 - val_loss: 0.2178 - val_acc: 0.9421\n",
            "Epoch 7/50\n",
            "22/22 [==============================] - 17s 768ms/step - loss: 0.1916 - acc: 0.9406 - val_loss: 0.2153 - val_acc: 0.9408\n",
            "Epoch 8/50\n",
            "22/22 [==============================] - 15s 664ms/step - loss: 0.1836 - acc: 0.9402 - val_loss: 0.2004 - val_acc: 0.9383\n",
            "Epoch 9/50\n",
            "22/22 [==============================] - 20s 915ms/step - loss: 0.1787 - acc: 0.9394 - val_loss: 0.1937 - val_acc: 0.9412\n",
            "Epoch 10/50\n",
            "22/22 [==============================] - 17s 760ms/step - loss: 0.1676 - acc: 0.9432 - val_loss: 0.1873 - val_acc: 0.9392\n",
            "Epoch 11/50\n",
            "22/22 [==============================] - 17s 768ms/step - loss: 0.1669 - acc: 0.9416 - val_loss: 0.1800 - val_acc: 0.9443\n",
            "Epoch 12/50\n",
            "22/22 [==============================] - 15s 704ms/step - loss: 0.1620 - acc: 0.9421 - val_loss: 0.1821 - val_acc: 0.9402\n",
            "Epoch 13/50\n",
            "22/22 [==============================] - 19s 867ms/step - loss: 0.1538 - acc: 0.9441 - val_loss: 0.1879 - val_acc: 0.9375\n",
            "Epoch 14/50\n",
            "22/22 [==============================] - 17s 769ms/step - loss: 0.1564 - acc: 0.9444 - val_loss: 0.1657 - val_acc: 0.9433\n",
            "Epoch 15/50\n",
            "22/22 [==============================] - 17s 753ms/step - loss: 0.1498 - acc: 0.9455 - val_loss: 0.1728 - val_acc: 0.9365\n",
            "Epoch 16/50\n",
            "22/22 [==============================] - 16s 736ms/step - loss: 0.1463 - acc: 0.9469 - val_loss: 0.1646 - val_acc: 0.9431\n",
            "Epoch 17/50\n",
            "22/22 [==============================] - 18s 832ms/step - loss: 0.1444 - acc: 0.9467 - val_loss: 0.1670 - val_acc: 0.9427\n",
            "Epoch 18/50\n",
            "22/22 [==============================] - 17s 771ms/step - loss: 0.1448 - acc: 0.9484 - val_loss: 0.1586 - val_acc: 0.9439\n",
            "Epoch 19/50\n",
            "22/22 [==============================] - 14s 642ms/step - loss: 0.1399 - acc: 0.9479 - val_loss: 0.1650 - val_acc: 0.9449\n",
            "Epoch 20/50\n",
            "22/22 [==============================] - 21s 960ms/step - loss: 0.1345 - acc: 0.9486 - val_loss: 0.1530 - val_acc: 0.9439\n",
            "Epoch 21/50\n",
            "22/22 [==============================] - 17s 780ms/step - loss: 0.1347 - acc: 0.9487 - val_loss: 0.1508 - val_acc: 0.9487\n",
            "Epoch 22/50\n",
            "22/22 [==============================] - 17s 777ms/step - loss: 0.1305 - acc: 0.9502 - val_loss: 0.1467 - val_acc: 0.9514\n",
            "Epoch 23/50\n",
            "22/22 [==============================] - 15s 686ms/step - loss: 0.1287 - acc: 0.9513 - val_loss: 0.1486 - val_acc: 0.9493\n",
            "Epoch 24/50\n",
            "22/22 [==============================] - 20s 910ms/step - loss: 0.1287 - acc: 0.9520 - val_loss: 0.1377 - val_acc: 0.9541\n",
            "Epoch 25/50\n",
            "22/22 [==============================] - 17s 765ms/step - loss: 0.1207 - acc: 0.9539 - val_loss: 0.1337 - val_acc: 0.9520\n",
            "Epoch 26/50\n",
            "22/22 [==============================] - 17s 770ms/step - loss: 0.1273 - acc: 0.9521 - val_loss: 0.1422 - val_acc: 0.9491\n",
            "Epoch 27/50\n",
            "22/22 [==============================] - 15s 701ms/step - loss: 0.1179 - acc: 0.9535 - val_loss: 0.1400 - val_acc: 0.9439\n",
            "Epoch 28/50\n",
            "22/22 [==============================] - 19s 874ms/step - loss: 0.1264 - acc: 0.9516 - val_loss: 0.1394 - val_acc: 0.9530\n",
            "Epoch 29/50\n",
            "22/22 [==============================] - 17s 768ms/step - loss: 0.1168 - acc: 0.9557 - val_loss: 0.1383 - val_acc: 0.9501\n",
            "Epoch 30/50\n",
            "22/22 [==============================] - 17s 760ms/step - loss: 0.1189 - acc: 0.9547 - val_loss: 0.1294 - val_acc: 0.9530\n",
            "Epoch 31/50\n",
            "22/22 [==============================] - 16s 733ms/step - loss: 0.1153 - acc: 0.9543 - val_loss: 0.1255 - val_acc: 0.9570\n",
            "Epoch 32/50\n",
            "22/22 [==============================] - 18s 827ms/step - loss: 0.1072 - acc: 0.9586 - val_loss: 0.1336 - val_acc: 0.9526\n",
            "Epoch 33/50\n",
            "22/22 [==============================] - 17s 764ms/step - loss: 0.1135 - acc: 0.9567 - val_loss: 0.1408 - val_acc: 0.9543\n",
            "Epoch 34/50\n",
            "22/22 [==============================] - 14s 639ms/step - loss: 0.1101 - acc: 0.9566 - val_loss: 0.1319 - val_acc: 0.9468\n",
            "Epoch 35/50\n",
            "22/22 [==============================] - 21s 959ms/step - loss: 0.1082 - acc: 0.9574 - val_loss: 0.1227 - val_acc: 0.9534\n",
            "Epoch 36/50\n",
            "22/22 [==============================] - 17s 784ms/step - loss: 0.1018 - acc: 0.9609 - val_loss: 0.1233 - val_acc: 0.9565\n",
            "Epoch 37/50\n",
            "22/22 [==============================] - 17s 753ms/step - loss: 0.1071 - acc: 0.9584 - val_loss: 0.1248 - val_acc: 0.9530\n",
            "Epoch 38/50\n",
            "22/22 [==============================] - 15s 675ms/step - loss: 0.1007 - acc: 0.9611 - val_loss: 0.1173 - val_acc: 0.9603\n",
            "Epoch 39/50\n",
            "22/22 [==============================] - 20s 903ms/step - loss: 0.1040 - acc: 0.9613 - val_loss: 0.1161 - val_acc: 0.9576\n",
            "Epoch 40/50\n",
            "22/22 [==============================] - 17s 790ms/step - loss: 0.1027 - acc: 0.9601 - val_loss: 0.1380 - val_acc: 0.9534\n",
            "Epoch 41/50\n",
            "22/22 [==============================] - 17s 761ms/step - loss: 0.0986 - acc: 0.9632 - val_loss: 0.1203 - val_acc: 0.9574\n",
            "Epoch 42/50\n",
            "22/22 [==============================] - 15s 702ms/step - loss: 0.0980 - acc: 0.9642 - val_loss: 0.1230 - val_acc: 0.9557\n",
            "Epoch 43/50\n",
            "22/22 [==============================] - 19s 867ms/step - loss: 0.0979 - acc: 0.9610 - val_loss: 0.1275 - val_acc: 0.9528\n",
            "Epoch 44/50\n",
            "22/22 [==============================] - 17s 790ms/step - loss: 0.0979 - acc: 0.9627 - val_loss: 0.1216 - val_acc: 0.9603\n",
            "Epoch 45/50\n",
            "22/22 [==============================] - 17s 762ms/step - loss: 0.0926 - acc: 0.9638 - val_loss: 0.1140 - val_acc: 0.9578\n",
            "Epoch 46/50\n",
            "22/22 [==============================] - 16s 736ms/step - loss: 0.1006 - acc: 0.9631 - val_loss: 0.1213 - val_acc: 0.9551\n",
            "Epoch 47/50\n",
            "22/22 [==============================] - 18s 831ms/step - loss: 0.0917 - acc: 0.9636 - val_loss: 0.1061 - val_acc: 0.9592\n",
            "Epoch 48/50\n",
            "22/22 [==============================] - 17s 764ms/step - loss: 0.0872 - acc: 0.9653 - val_loss: 0.1094 - val_acc: 0.9601\n",
            "Epoch 49/50\n",
            "22/22 [==============================] - 14s 636ms/step - loss: 0.0951 - acc: 0.9636 - val_loss: 0.1241 - val_acc: 0.9561\n",
            "Epoch 50/50\n",
            "22/22 [==============================] - 21s 963ms/step - loss: 0.0884 - acc: 0.9663 - val_loss: 0.1171 - val_acc: 0.9598\n"
          ],
          "name": "stdout"
        }
      ]
    },
    {
      "cell_type": "markdown",
      "metadata": {
        "id": "XN4pPtm2WiVi",
        "colab_type": "text"
      },
      "source": [
        "**Visual the result**"
      ]
    },
    {
      "cell_type": "code",
      "metadata": {
        "id": "DJipQWhaylmO",
        "colab_type": "code",
        "outputId": "b32bdabe-a000-468d-e6ff-5a18adaec626",
        "colab": {
          "base_uri": "https://localhost:8080/",
          "height": 337
        }
      },
      "source": [
        "import matplotlib.pyplot as plt \n",
        "plt.figure(1)  \n",
        "      \n",
        "plt.subplot(211)  \n",
        "plt.plot(history_cnn_val.history['acc'])  \n",
        "plt.plot(history_cnn_val.history['val_acc'])  \n",
        "plt.title('model accuracy')  \n",
        "plt.ylabel('accuracy')  \n",
        "plt.xlabel('epoch')  \n",
        "plt.legend(['train1', 'validation1'], loc='upper left')  \n",
        "\n",
        "plt.figure()   \n",
        "   \n",
        "plt.subplot(212)  \n",
        "plt.plot(history_cnn_val.history['loss'])  \n",
        "plt.plot(history_cnn_val.history['val_loss'])  \n",
        "plt.title('model loss')  \n",
        "plt.ylabel('loss')  \n",
        "plt.xlabel('epoch')  \n",
        "plt.legend(['train', 'validation'], loc='upper left')  \n",
        "plt.show()"
      ],
      "execution_count": 16,
      "outputs": [
        {
          "output_type": "display_data",
          "data": {
            "image/png": "[encoded data removed]",
            "text/plain": [
              "<Figure size 432x288 with 1 Axes>"
            ]
          },
          "metadata": {
            "tags": []
          }
        },
        {
          "output_type": "display_data",
          "data": {
            "image/png": "[encoded data removed]",
            "text/plain": [
              "<Figure size 432x288 with 1 Axes>"
            ]
          },
          "metadata": {
            "tags": []
          }
        }
      ]
    },
    {
      "cell_type": "markdown",
      "metadata": {
        "id": "EiD3X3mNMKFy",
        "colab_type": "text"
      },
      "source": [
        "**Loading the weights of trained model and start training again.**"
      ]
    },
    {
      "cell_type": "markdown",
      "metadata": {
        "id": "GfUyTgomNa8m",
        "colab_type": "text"
      },
      "source": [
        "Retraining from saved model"
      ]
    },
    {
      "cell_type": "code",
      "metadata": {
        "id": "Gdpk2V2sMI2T",
        "colab_type": "code",
        "colab": {}
      },
      "source": [
        "model_cnn_modify=tf.keras.models.load_model('/content/gdrive/My Drive/testx/Models_customized/customized_weights.50-0.11.hdf5')"
      ],
      "execution_count": 0,
      "outputs": []
    },
    {
      "cell_type": "code",
      "metadata": {
        "id": "n05Ac_jnOExV",
        "colab_type": "code",
        "colab": {}
      },
      "source": [
        "model_cnn_modify.compile(loss='binary_crossentropy', optimizer=RMSprop(lr=1e-4), metrics=['acc'])"
      ],
      "execution_count": 0,
      "outputs": []
    },
    {
      "cell_type": "markdown",
      "metadata": {
        "id": "ETJLimgpvIkg",
        "colab_type": "text"
      },
      "source": [
        " Train the model"
      ]
    },
    {
      "cell_type": "code",
      "metadata": {
        "id": "X5bd-qMCOEu7",
        "colab_type": "code",
        "outputId": "eee97559-e7d3-433e-eb86-1a1ecb27d7a8",
        "colab": {
          "base_uri": "https://localhost:8080/",
          "height": 1000
        }
      },
      "source": [
        "history_cnn_val = model_cnn_modify.fit_generator(\n",
        "      train_generator_cnn,\n",
        "      steps_per_epoch=22,  \n",
        "      epochs=50,\n",
        "      validation_data=validation_generator_cnn,\n",
        "      validation_steps=11, \n",
        "      callbacks = [checkpoint],\n",
        "      verbose=1)"
      ],
      "execution_count": 29,
      "outputs": [
        {
          "output_type": "stream",
          "text": [
            "Epoch 1/50\n",
            "22/22 [==============================] - 24s 1s/step - loss: 0.0949 - acc: 0.9647 - val_loss: 0.0954 - val_acc: 0.9615\n",
            "Epoch 2/50\n",
            "22/22 [==============================] - 19s 843ms/step - loss: 0.0811 - acc: 0.9687 - val_loss: 0.1035 - val_acc: 0.9596\n",
            "Epoch 3/50\n",
            "22/22 [==============================] - 18s 813ms/step - loss: 0.0802 - acc: 0.9697 - val_loss: 0.1188 - val_acc: 0.9574\n",
            "Epoch 4/50\n",
            "22/22 [==============================] - 15s 667ms/step - loss: 0.0804 - acc: 0.9690 - val_loss: 0.1139 - val_acc: 0.9621\n",
            "Epoch 5/50\n",
            "22/22 [==============================] - 22s 1s/step - loss: 0.0796 - acc: 0.9681 - val_loss: 0.1127 - val_acc: 0.9601\n",
            "Epoch 6/50\n",
            "22/22 [==============================] - 18s 822ms/step - loss: 0.0758 - acc: 0.9712 - val_loss: 0.1143 - val_acc: 0.9586\n",
            "Epoch 7/50\n",
            "22/22 [==============================] - 18s 808ms/step - loss: 0.0794 - acc: 0.9692 - val_loss: 0.1067 - val_acc: 0.9592\n",
            "Epoch 8/50\n",
            "22/22 [==============================] - 16s 718ms/step - loss: 0.0752 - acc: 0.9713 - val_loss: 0.1045 - val_acc: 0.9598\n",
            "Epoch 9/50\n",
            "22/22 [==============================] - 21s 956ms/step - loss: 0.0778 - acc: 0.9692 - val_loss: 0.1136 - val_acc: 0.9563\n",
            "Epoch 10/50\n",
            "22/22 [==============================] - 18s 798ms/step - loss: 0.0730 - acc: 0.9723 - val_loss: 0.1103 - val_acc: 0.9609\n",
            "Epoch 11/50\n",
            "22/22 [==============================] - 17s 769ms/step - loss: 0.0788 - acc: 0.9688 - val_loss: 0.0952 - val_acc: 0.9646\n",
            "Epoch 12/50\n",
            "22/22 [==============================] - 16s 713ms/step - loss: 0.0678 - acc: 0.9744 - val_loss: 0.1047 - val_acc: 0.9648\n",
            "Epoch 13/50\n",
            "22/22 [==============================] - 20s 915ms/step - loss: 0.0761 - acc: 0.9680 - val_loss: 0.1106 - val_acc: 0.9607\n",
            "Epoch 14/50\n",
            "22/22 [==============================] - 18s 798ms/step - loss: 0.0696 - acc: 0.9723 - val_loss: 0.1052 - val_acc: 0.9636\n",
            "Epoch 15/50\n",
            "22/22 [==============================] - 21s 933ms/step - loss: 0.0707 - acc: 0.9724 - val_loss: 0.0948 - val_acc: 0.9625\n",
            "Epoch 16/50\n",
            "22/22 [==============================] - 17s 764ms/step - loss: 0.0693 - acc: 0.9740 - val_loss: 0.1088 - val_acc: 0.9638\n",
            "Epoch 17/50\n",
            "22/22 [==============================] - 19s 869ms/step - loss: 0.0652 - acc: 0.9739 - val_loss: 0.1022 - val_acc: 0.9628\n",
            "Epoch 18/50\n",
            "22/22 [==============================] - 17s 767ms/step - loss: 0.0684 - acc: 0.9716 - val_loss: 0.1026 - val_acc: 0.9654\n",
            "Epoch 19/50\n",
            "22/22 [==============================] - 14s 648ms/step - loss: 0.0657 - acc: 0.9746 - val_loss: 0.1021 - val_acc: 0.9628\n",
            "Epoch 20/50\n",
            "22/22 [==============================] - 22s 1s/step - loss: 0.0661 - acc: 0.9737 - val_loss: 0.0997 - val_acc: 0.9663\n",
            "Epoch 21/50\n",
            "22/22 [==============================] - 18s 830ms/step - loss: 0.0690 - acc: 0.9719 - val_loss: 0.1060 - val_acc: 0.9642\n",
            "Epoch 22/50\n",
            "22/22 [==============================] - 17s 771ms/step - loss: 0.0670 - acc: 0.9744 - val_loss: 0.0957 - val_acc: 0.9638\n",
            "Epoch 23/50\n",
            "22/22 [==============================] - 15s 699ms/step - loss: 0.0631 - acc: 0.9752 - val_loss: 0.1112 - val_acc: 0.9613\n",
            "Epoch 24/50\n",
            "22/22 [==============================] - 21s 966ms/step - loss: 0.0653 - acc: 0.9741 - val_loss: 0.1115 - val_acc: 0.9630\n",
            "Epoch 25/50\n",
            "22/22 [==============================] - 17s 772ms/step - loss: 0.0620 - acc: 0.9754 - val_loss: 0.0972 - val_acc: 0.9679\n",
            "Epoch 26/50\n",
            "22/22 [==============================] - 17s 760ms/step - loss: 0.0651 - acc: 0.9726 - val_loss: 0.1105 - val_acc: 0.9621\n",
            "Epoch 27/50\n",
            "22/22 [==============================] - 16s 710ms/step - loss: 0.0596 - acc: 0.9774 - val_loss: 0.0958 - val_acc: 0.9638\n",
            "Epoch 28/50\n",
            "22/22 [==============================] - 19s 871ms/step - loss: 0.0616 - acc: 0.9769 - val_loss: 0.1072 - val_acc: 0.9642\n",
            "Epoch 29/50\n",
            "22/22 [==============================] - 18s 823ms/step - loss: 0.0645 - acc: 0.9743 - val_loss: 0.1080 - val_acc: 0.9654\n",
            "Epoch 30/50\n",
            "22/22 [==============================] - 17s 766ms/step - loss: 0.0620 - acc: 0.9753 - val_loss: 0.1000 - val_acc: 0.9642\n",
            "Epoch 31/50\n",
            "22/22 [==============================] - 18s 824ms/step - loss: 0.0557 - acc: 0.9785 - val_loss: 0.1165 - val_acc: 0.9607\n",
            "Epoch 32/50\n",
            "22/22 [==============================] - 18s 839ms/step - loss: 0.0608 - acc: 0.9765 - val_loss: 0.1049 - val_acc: 0.9656\n",
            "Epoch 33/50\n",
            "22/22 [==============================] - 18s 820ms/step - loss: 0.0569 - acc: 0.9776 - val_loss: 0.1154 - val_acc: 0.9609\n",
            "Epoch 34/50\n",
            "22/22 [==============================] - 14s 643ms/step - loss: 0.0573 - acc: 0.9788 - val_loss: 0.1004 - val_acc: 0.9644\n",
            "Epoch 35/50\n",
            "22/22 [==============================] - 22s 981ms/step - loss: 0.0525 - acc: 0.9776 - val_loss: 0.1114 - val_acc: 0.9648\n",
            "Epoch 36/50\n",
            "22/22 [==============================] - 18s 828ms/step - loss: 0.0562 - acc: 0.9778 - val_loss: 0.1175 - val_acc: 0.9628\n",
            "Epoch 37/50\n",
            "22/22 [==============================] - 18s 822ms/step - loss: 0.0638 - acc: 0.9760 - val_loss: 0.0994 - val_acc: 0.9681\n",
            "Epoch 38/50\n",
            "22/22 [==============================] - 15s 686ms/step - loss: 0.0520 - acc: 0.9801 - val_loss: 0.1090 - val_acc: 0.9640\n",
            "Epoch 39/50\n",
            "22/22 [==============================] - 20s 924ms/step - loss: 0.0524 - acc: 0.9799 - val_loss: 0.1065 - val_acc: 0.9665\n",
            "Epoch 40/50\n",
            "22/22 [==============================] - 18s 812ms/step - loss: 0.0530 - acc: 0.9789 - val_loss: 0.1005 - val_acc: 0.9677\n",
            "Epoch 41/50\n",
            "22/22 [==============================] - 18s 800ms/step - loss: 0.0552 - acc: 0.9785 - val_loss: 0.0945 - val_acc: 0.9648\n",
            "Epoch 42/50\n",
            "22/22 [==============================] - 16s 743ms/step - loss: 0.0512 - acc: 0.9804 - val_loss: 0.1042 - val_acc: 0.9644\n",
            "Epoch 43/50\n",
            "22/22 [==============================] - 19s 882ms/step - loss: 0.0503 - acc: 0.9802 - val_loss: 0.1069 - val_acc: 0.9627\n",
            "Epoch 44/50\n",
            "22/22 [==============================] - 19s 844ms/step - loss: 0.0506 - acc: 0.9803 - val_loss: 0.1242 - val_acc: 0.9642\n",
            "Epoch 45/50\n",
            "22/22 [==============================] - 18s 809ms/step - loss: 0.0539 - acc: 0.9782 - val_loss: 0.1019 - val_acc: 0.9671\n",
            "Epoch 46/50\n",
            "22/22 [==============================] - 17s 775ms/step - loss: 0.0485 - acc: 0.9811 - val_loss: 0.1089 - val_acc: 0.9659\n",
            "Epoch 47/50\n",
            "22/22 [==============================] - 20s 905ms/step - loss: 0.0477 - acc: 0.9804 - val_loss: 0.0982 - val_acc: 0.9642\n",
            "Epoch 48/50\n",
            "22/22 [==============================] - 18s 808ms/step - loss: 0.0479 - acc: 0.9806 - val_loss: 0.0951 - val_acc: 0.9659\n",
            "Epoch 49/50\n",
            "22/22 [==============================] - 14s 651ms/step - loss: 0.0478 - acc: 0.9811 - val_loss: 0.0944 - val_acc: 0.9659\n",
            "Epoch 50/50\n",
            "22/22 [==============================] - 21s 960ms/step - loss: 0.0471 - acc: 0.9809 - val_loss: 0.1196 - val_acc: 0.9656\n"
          ],
          "name": "stdout"
        }
      ]
    },
    {
      "cell_type": "markdown",
      "metadata": {
        "id": "LqIFcfIKpSvt",
        "colab_type": "text"
      },
      "source": [
        "Visual the result"
      ]
    },
    {
      "cell_type": "code",
      "metadata": {
        "id": "iD9fRxFjpRyY",
        "colab_type": "code",
        "colab": {}
      },
      "source": [
        "import matplotlib.pyplot as plt \n",
        "plt.figure(1)  \n",
        "      \n",
        "plt.subplot(211)  \n",
        "plt.plot(history_cnn_val.history['acc'])  \n",
        "plt.plot(history_cnn_val.history['val_acc'])  \n",
        "plt.title('model accuracy')  \n",
        "plt.ylabel('accuracy')  \n",
        "plt.xlabel('epoch')  \n",
        "plt.legend(['train1', 'validation1'], loc='upper left')  \n",
        "\n",
        "plt.figure()   \n",
        "   \n",
        "plt.subplot(212)  \n",
        "plt.plot(history_cnn_val.history['loss'])  \n",
        "plt.plot(history_cnn_val.history['val_loss'])  \n",
        "plt.title('model loss')  \n",
        "plt.ylabel('loss')  \n",
        "plt.xlabel('epoch')  \n",
        "plt.legend(['train1', 'validation1'], loc='upper left')  \n",
        "plt.show()"
      ],
      "execution_count": 0,
      "outputs": []
    },
    {
      "cell_type": "markdown",
      "metadata": {
        "id": "ISo1uQLdPraa",
        "colab_type": "text"
      },
      "source": [
        "**Use Test Set to Evaluate Trained Model**"
      ]
    },
    {
      "cell_type": "code",
      "metadata": {
        "id": "yLlBfMfqOEqR",
        "colab_type": "code",
        "colab": {}
      },
      "source": [
        "history_cnn_test = model_cnn_modify.fit_generator(      \n",
        "      train_generator_cnn,\n",
        "      steps_per_epoch=22,   \n",
        "      epochs=50,\n",
        "      validation_data=test_generator_cnn,\n",
        "      validation_steps=11, \n",
        "      callbacks = [checkpoint],\n",
        "      verbose=1)"
      ],
      "execution_count": 0,
      "outputs": []
    },
    {
      "cell_type": "markdown",
      "metadata": {
        "id": "R3AhWi9TiOl9",
        "colab_type": "text"
      },
      "source": [
        "**Visual the result**"
      ]
    },
    {
      "cell_type": "code",
      "metadata": {
        "id": "xzRPeBccpp_T",
        "colab_type": "code",
        "colab": {}
      },
      "source": [
        "import matplotlib.pyplot as plt \n",
        "plt.figure(1)  \n",
        "      \n",
        "plt.subplot(211)  \n",
        "plt.plot(history_cnn_test.history['acc'])  \n",
        "plt.plot(history_cnn_test.history['val_acc'])  \n",
        "plt.title('model accuracy')  \n",
        "plt.ylabel('accuracy')  \n",
        "plt.xlabel('epoch')  \n",
        "plt.legend(['train', 'test'], loc='upper left')  \n",
        "   \n",
        "plt.figure() \n",
        "\n",
        "plt.subplot(212)  \n",
        "plt.plot(history_cnn_test.history['loss'])  \n",
        "plt.plot(history_cnn_test.history['val_loss'])  \n",
        "plt.title('model loss')  \n",
        "plt.ylabel('loss')  \n",
        "plt.xlabel('epoch')  \n",
        "plt.legend(['train', 'test'], loc='upper left')  \n",
        "plt.show()"
      ],
      "execution_count": 0,
      "outputs": []
    },
    {
      "cell_type": "code",
      "metadata": {
        "id": "k-nMCYRNBg8b",
        "colab_type": "code",
        "colab": {}
      },
      "source": [
        ""
      ],
      "execution_count": 0,
      "outputs": []
    }
  ]
}